{
 "cells": [
  {
   "cell_type": "markdown",
   "metadata": {},
   "source": [
    "# Memoized Functions in Python\n",
    "\n",
    "Many computer science and mathematics students have encountered the Fibonacci numbers:\n",
    "\n",
    "    0, 1, 1, 2, 3, 5, 8, 13, 21, 34, ...\n",
    "    \n",
    "Essentially, the nth number is computed by summing the previous two numbers (and the sequence starts off with a 0 and a 1). In ```memoize.py```, we provide an implementation that you can look at, import, and run."
   ]
  },
  {
   "cell_type": "code",
   "execution_count": null,
   "metadata": {},
   "outputs": [],
   "source": [
    "from sys import set_int_max_str_digits\n",
    "set_int_max_str_digits(100000) # allows us to print very big integers\n",
    "from memoize import fib\n",
    "print([fib(i) for i in range(10)])"
   ]
  },
  {
   "cell_type": "markdown",
   "metadata": {},
   "source": [
    "Fun! Of course, if we run fib on a large number, it can take a while."
   ]
  },
  {
   "cell_type": "code",
   "execution_count": null,
   "metadata": {},
   "outputs": [],
   "source": [
    "result = fib(300000)"
   ]
  },
  {
   "cell_type": "markdown",
   "metadata": {},
   "source": [
    "And even though we (or the computer, more accurately) have done all this computation already, if we call ```fib(300000)``` again, we start from scratch."
   ]
  },
  {
   "cell_type": "code",
   "execution_count": null,
   "metadata": {},
   "outputs": [],
   "source": [
    "result = fib(300000)"
   ]
  },
  {
   "cell_type": "markdown",
   "metadata": {},
   "source": [
    "Now you may already know a solution for this. Namely, we can store the results we've previously computed, and then not have to bother recomputing them in subsequent function calls. But how do we get a Python function to cache previous results? One convenient way to do this is to wrap them in a class, like so:"
   ]
  },
  {
   "cell_type": "code",
   "execution_count": null,
   "metadata": {},
   "outputs": [],
   "source": [
    "class Fibonacci:\n",
    "    \"\"\"\n",
    "    The Fibonacci numbers form a sequence such that each number is the sum\n",
    "    of the two preceding ones, starting from 0 and 1.\n",
    "    \n",
    "    That is, fib(0) = 0, fib(1) = 1, and fib(n) = fib(n-1) + fib(n+2).\n",
    "    \n",
    "    This function computes the nth Fibonacci number. Note that it caches\n",
    "    the previously computed numbers, so subsequent fib(n) calls should be\n",
    "    constant-time.\n",
    "    \n",
    "    \"\"\"   \n",
    "    def __init__(self):\n",
    "        self.fibs = [0, 1]\n",
    "    \n",
    "    def __call__(self, n):        \n",
    "        while len(self.fibs) < n+1:\n",
    "            self.fibs.append(self.fibs[-1] + self.fibs[-2])\n",
    "        return self.fibs[n]\n"
   ]
  },
  {
   "cell_type": "markdown",
   "metadata": {},
   "source": [
    "The special method ```__call__``` is reserved by Python so that we can treat an instance of this class just like a function. So we can go:"
   ]
  },
  {
   "cell_type": "code",
   "execution_count": null,
   "metadata": {},
   "outputs": [],
   "source": [
    "memofib = Fibonacci()  # this creates an instance of Fibonacci\n",
    "memofib(10) # now I can treat it just a regular function; this is the same as typing memofib.__call__(10)"
   ]
  },
  {
   "cell_type": "markdown",
   "metadata": {},
   "source": [
    "But now we're keeping around the previously computed values in the ```memofib.fibs``` list!"
   ]
  },
  {
   "cell_type": "code",
   "execution_count": null,
   "metadata": {},
   "outputs": [],
   "source": [
    "print(memofib.fibs)"
   ]
  },
  {
   "cell_type": "markdown",
   "metadata": {},
   "source": [
    "That means if we call memofib(300000) two times in a row, the second time will be extremely fast."
   ]
  },
  {
   "cell_type": "code",
   "execution_count": null,
   "metadata": {},
   "outputs": [],
   "source": [
    "result = memofib(300000)"
   ]
  },
  {
   "cell_type": "code",
   "execution_count": null,
   "metadata": {},
   "outputs": [],
   "source": [
    "result = memofib(300000)"
   ]
  },
  {
   "cell_type": "markdown",
   "metadata": {},
   "source": [
    "Now you try! Pascal's triangle looks as follows:\n",
    "\n",
    "    1\n",
    "    1 1\n",
    "    1 2 1\n",
    "    1 3 3 1\n",
    "    1 4 6 4 1\n",
    "    1 5 10 10 5 1\n",
    "\n",
    "Basically, the kth element of the nth row is 1 if k==n or k==0. Otherwise it's the sum of the k and k-1th elements of the n-1th row. Enjoy this animated GIF demo from Wikipedia:\n",
    "\n",
    "![](img/pascal.gif)\n",
    "\n",
    "Here's a nonmemoizing function for it."
   ]
  },
  {
   "cell_type": "code",
   "execution_count": null,
   "metadata": {},
   "outputs": [],
   "source": [
    "def pascal(n, k):\n",
    "    \"\"\"\n",
    "    Computes the element in the nth row and kth column of Pascal's triangle.\n",
    "    \n",
    "    Note that:\n",
    "        - pascal(n, n) = pascal(n, 0) = 1\n",
    "        - otherwise, pascal(n, k) = pascal(n-1, k-1) + pascal(n-1, k)\n",
    "    \n",
    "    \"\"\"\n",
    "    elements = dict()\n",
    "    for i in range(n+1):\n",
    "        for j in range(i+1):\n",
    "            if i == j or i == 0 or j == 0:\n",
    "                elements[(i,j)] = 1\n",
    "            else:\n",
    "                elements[(i,j)] = elements[(i-1, j-1)] + elements[(i-1, j)]\n",
    "    return elements[(n,k)]"
   ]
  },
  {
   "cell_type": "code",
   "execution_count": null,
   "metadata": {},
   "outputs": [],
   "source": [
    "print(pascal(4, 2))"
   ]
  },
  {
   "cell_type": "markdown",
   "metadata": {},
   "source": [
    "----\n",
    "### Question 1\n",
    "----"
   ]
  },
  {
   "cell_type": "markdown",
   "metadata": {},
   "source": [
    "Create a memoized function that computes Pascal's triangle, i.e. complete the implementation of the class ```Pascal``` in ```memoize.py```.\n",
    "\n",
    "To help test it, we've created some unit tests in test.py. You can run all of them by typing:\n",
    "\n",
    "    python -m unittest test.Q1\n",
    "    \n",
    "in a terminal window. To just run the test for the memoized Pascal's triangle function, type:\n",
    "\n",
    "    python -m unittest test.Q1.test_memopascal\n",
    "    \n",
    "Once it's working, the second call to ```memopascal(3000,1000)``` should be lightning fast."
   ]
  },
  {
   "cell_type": "code",
   "execution_count": null,
   "metadata": {},
   "outputs": [],
   "source": [
    "from memoize import Pascal\n",
    "memopascal = Pascal()\n",
    "memopascal(3000,1000)"
   ]
  },
  {
   "cell_type": "code",
   "execution_count": null,
   "metadata": {},
   "outputs": [],
   "source": [
    "memopascal(3000,1000)"
   ]
  },
  {
   "cell_type": "markdown",
   "metadata": {},
   "source": [
    "Finally, submit your solution by making a pull request, as outlined in the \"Accept an Assignment\" tutorial at https://classroom.github.com. If you can't quite figure out how to do this, don't worry, we'll go through it at the beginning of the next class."
   ]
  }
 ],
 "metadata": {
  "kernelspec": {
   "display_name": "Python 3",
   "language": "python",
   "name": "python3"
  },
  "language_info": {
   "codemirror_mode": {
    "name": "ipython",
    "version": 3
   },
   "file_extension": ".py",
   "mimetype": "text/x-python",
   "name": "python",
   "nbconvert_exporter": "python",
   "pygments_lexer": "ipython3",
   "version": "3.7.1"
  }
 },
 "nbformat": 4,
 "nbformat_minor": 2
}
